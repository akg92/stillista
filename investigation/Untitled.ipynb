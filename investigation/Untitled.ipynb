{
 "cells": [
  {
   "cell_type": "code",
   "execution_count": 2,
   "metadata": {
    "collapsed": true
   },
   "outputs": [],
   "source": [
    "# This notebook does most of the pre-preprocessing.\n",
    "\n",
    "header=[\"Customer\",\"Product\",\"Rating\",\"Time\"]\n",
    "dataFolder=\"../data\"\n",
    "dataFile=dataFolder+\"/ratings_Clothing_Shoes_and_Jewelry.csv\"\n",
    "chunkSize=10**3"
   ]
  },
  {
   "cell_type": "code",
   "execution_count": 3,
   "metadata": {
    "collapsed": true
   },
   "outputs": [],
   "source": [
    "def addHeaderData(fileName):\n",
    "    #to add the header\n",
    "    #the file is too large. Not getting opened\n",
    "    with open(fileName,\"r+\") as f:\n",
    "        content=f.read()\n",
    "        f.seek(0,0)\n",
    "        f.write(\",\".join(header)+\"\\n\"+content)\n",
    "        \n",
    "#addHeaderData(dataFile)\n",
    "        \n",
    "\n",
    "        \n",
    "        \n",
    "        "
   ]
  },
  {
   "cell_type": "code",
   "execution_count": null,
   "metadata": {},
   "outputs": [
    {
     "name": "stdout",
     "output_type": "stream",
     "text": [
      "1136004\n",
      "The product for getUser called:B007OW3MPM\n"
     ]
    }
   ],
   "source": [
    "#find cosine distance\n",
    "\n",
    "import numpy as np\n",
    "import pandas as pd\n",
    "#def findCosine():\n",
    "\n",
    "\n",
    "\n",
    "def getUsers(dfs,product):\n",
    "    dfs=pd.read_csv(dataFile,chunksize=chunkSize)\n",
    "    print('The product for getUser called:{}'.format(product))\n",
    "    users=set()\n",
    "    #print(\"fucker\")\n",
    "    #print(len(dfs))\n",
    "    for df in dfs:\n",
    "        #print(df['Product'])\n",
    "        temp=df[df['Product']==product]\n",
    "        #print(\"hello\")\n",
    "        #print(temp)\n",
    "        if(not temp.empty):\n",
    "            print(\"heloo\")\n",
    "            for ele in temp.Customer:\n",
    "                users.add(ele)\n",
    "                print(\"adding\")\n",
    "                print(ele)\n",
    "    print(list(users))\n",
    "    return list(users)\n",
    "def getWeight(dfs,user,product):\n",
    "    \n",
    "    for df in dfs:\n",
    "        temp=df.loc('User'==user and 'Product'==product)\n",
    "        if(temp):\n",
    "            return temp.Rating\n",
    "    \n",
    "def findSingleSim(dfs,p1,p2):\n",
    "    \n",
    "    #get the p1 user\n",
    "    u1=getUsers(dfs,p1)\n",
    "    u2=getUsers(dfs,p2)\n",
    "    print(u1)\n",
    "    print(u2)\n",
    "    #find the intersection\n",
    "    intersection=[x for x in u1 if x in u2]\n",
    "    print(intersection)\n",
    "    ## if no user bought the item together\n",
    "    if(len(intersection)==0):\n",
    "        return 0\n",
    "    ## find the rating\n",
    "    rating1=[getWeight(dfs,x,p1) for x in intersection]\n",
    "    rating2=[getWeight(dfs,x,p2) for x in intersection]\n",
    "    \n",
    "    ##find dot product\n",
    "    #rating1=np.as_array(rating1)\n",
    "    #rating2=np.as_array(rating2)\n",
    "    #dot product\n",
    "    dot=np.dot(rating1,rating2)\n",
    "    #square root sum\n",
    "    sq1=np.sqrt(np.power(rating1,2).sum())\n",
    "    sq2=np.sqrt(np.power(rating2,2).sum())\n",
    "    \n",
    "    return dot/sq1/sq2\n",
    "\n",
    "    #print(u1)\n",
    "    \n",
    "def itemItemCol(fileName):\n",
    "    dfs=pd.read_csv(fileName,chunksize=chunkSize)\n",
    "    \n",
    "    products=set()\n",
    "    for df in dfs:\n",
    "        us=df.Product.unique()\n",
    "        #print(us)\n",
    "        for ele in us:\n",
    "            products.add(ele)\n",
    "    products=list(products)\n",
    "    nPs=len(products)\n",
    "    print(nPs)\n",
    "    tempFile=\"sim.csv\"\n",
    "    \n",
    "    with open(tempFile,\"w\") as f:\n",
    "        for i in range(nPs):\n",
    "            for j in range(i+1,2):\n",
    "                simScore=findSingleSim(dfs,products[i],products[j])\n",
    "                print(simScore)\n",
    "                f.write('{},{},{}\\n'.format(products[i],products[j],simScore))\n",
    "                f.write('{},{},{}\\n'.format(products[j],products[i],simScore))\n",
    "            \n",
    "    #print(list(products)[0:100])\n",
    "    #sims=[[0]*nPs for x in range(nPs)] #2d matrix which store the similarity\n",
    "    \n",
    "    #for i in range(nPs):\n",
    "    #    for j in range(i+1,nPs):\n",
    "     #       sims[i][j]=findSingleSim(df,nPs[i],nPs[j])\n",
    "    #\n",
    "itemItemCol(dataFile)    "
   ]
  },
  {
   "cell_type": "code",
   "execution_count": null,
   "metadata": {
    "collapsed": true
   },
   "outputs": [],
   "source": []
  }
 ],
 "metadata": {
  "kernelspec": {
   "display_name": "Python 3",
   "language": "python",
   "name": "python3"
  },
  "language_info": {
   "codemirror_mode": {
    "name": "ipython",
    "version": 3
   },
   "file_extension": ".py",
   "mimetype": "text/x-python",
   "name": "python",
   "nbconvert_exporter": "python",
   "pygments_lexer": "ipython3",
   "version": "3.6.3"
  }
 },
 "nbformat": 4,
 "nbformat_minor": 2
}
